{
  "nbformat": 4,
  "nbformat_minor": 5,
  "metadata": {
    "kernel_info": {
      "name": "python3"
    },
    "noteable": {
      "last_transaction_id": "d1c6fcce-5947-40f3-84d9-32af2ac33972"
    },
    "kernelspec": {
      "display_name": "Python 3.9",
      "language": "python",
      "name": "python3"
    },
    "selected_hardware_size": "small"
  },
  "cells": [
    {
      "id": "f3f6dac8",
      "cell_type": "code",
      "metadata": {
        "noteable": {
          "output_collection_id": "f444c948-5726-45ed-adf4-aa7f4de6100c"
        },
        "ExecuteTime": {
          "end_time": "2023-08-05T17:08:26.717321+00:00",
          "start_time": "2023-08-05T17:08:26.388760+00:00"
        },
        "jupyter": {
          "outputs_hidden": false
        }
      },
      "execution_count": null,
      "source": "%%bash\ngit push upstream main ",
      "outputs": []
    }
  ]
}