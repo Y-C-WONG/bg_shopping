{
  "nbformat": 4,
  "nbformat_minor": 5,
  "metadata": {
    "kernel_info": {
      "name": "python3"
    },
    "noteable": {
      "last_transaction_id": "0e9813b4-f009-4b9a-a687-fe5784885916"
    },
    "kernelspec": {
      "display_name": "Python 3.9",
      "language": "python",
      "name": "python3"
    },
    "selected_hardware_size": "small"
  },
  "cells": [
    {
      "id": "f3f6dac8",
      "cell_type": "code",
      "metadata": {
        "noteable": {
          "output_collection_id": "f444c948-5726-45ed-adf4-aa7f4de6100c"
        },
        "ExecuteTime": {
          "end_time": "2023-08-05T17:08:26.717321+00:00",
          "start_time": "2023-08-05T17:08:26.388760+00:00"
        },
        "jupyter": {
          "outputs_hidden": false
        }
      },
      "execution_count": null,
      "source": "%%bash\n\ngit push https://<YOUR-PERSONAL-ACCESS-TOKEN>@github.com/<User-Name>/<Repo-Name>.git",
      "outputs": []
    }
  ]
}