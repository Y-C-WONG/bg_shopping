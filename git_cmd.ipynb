{
  "nbformat": 4,
  "nbformat_minor": 5,
  "metadata": {
    "kernel_info": {
      "name": "python3"
    },
    "noteable": {
      "last_transaction_id": "17f25342-8aee-4fc7-aec5-10cca7944a07"
    },
    "kernelspec": {
      "display_name": "Python 3.9",
      "language": "python",
      "name": "python3"
    },
    "selected_hardware_size": "small"
  },
  "cells": [
    {
      "id": "f3f6dac8",
      "cell_type": "code",
      "metadata": {
        "noteable": {
          "output_collection_id": "a655462f-6ed8-4b14-a1c0-9ff0c7ac9d4e"
        },
        "ExecuteTime": null
      },
      "execution_count": null,
      "source": "%%bash\ngit config --global --add safe.directory /etc/noteable/project",
      "outputs": []
    }
  ]
}