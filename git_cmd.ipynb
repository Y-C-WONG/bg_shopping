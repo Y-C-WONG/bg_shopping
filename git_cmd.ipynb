{
  "nbformat": 4,
  "nbformat_minor": 5,
  "metadata": {
    "kernel_info": {
      "name": "python3"
    },
    "noteable": {
      "last_transaction_id": "ea8c6992-1391-4e32-95a7-88895b1cf161"
    },
    "kernelspec": {
      "display_name": "Python 3.9",
      "language": "python",
      "name": "python3"
    },
    "selected_hardware_size": "small"
  },
  "cells": [
    {
      "id": "f3f6dac8",
      "cell_type": "code",
      "metadata": {
        "noteable": {
          "output_collection_id": "78f8e179-1b64-43db-94a7-2244040f48a9"
        },
        "ExecuteTime": null
      },
      "execution_count": null,
      "source": "%%bash\ngit push upstream main",
      "outputs": []
    }
  ]
}