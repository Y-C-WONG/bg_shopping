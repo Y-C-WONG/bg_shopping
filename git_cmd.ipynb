{
  "nbformat": 4,
  "nbformat_minor": 5,
  "metadata": {
    "kernel_info": {
      "name": "python3"
    },
    "noteable": {
      "last_transaction_id": "6837c410-7c18-4b2c-856b-1b274854a71a"
    },
    "kernelspec": {
      "display_name": "Python 3.9",
      "language": "python",
      "name": "python3"
    },
    "selected_hardware_size": "small"
  },
  "cells": [
    {
      "id": "f3f6dac8",
      "cell_type": "code",
      "metadata": {
        "noteable": {
          "output_collection_id": "f444c948-5726-45ed-adf4-aa7f4de6100c"
        },
        "ExecuteTime": {
          "end_time": "2023-08-05T17:08:26.717321+00:00",
          "start_time": "2023-08-05T17:08:26.388760+00:00"
        },
        "jupyter": {
          "outputs_hidden": false
        }
      },
      "execution_count": null,
      "source": "%%bash\n\ngit push https://avvvc@github.com/Y-C-WONG/<Repo-Name>.git\n\accc",
      "outputs": []
    }
  ]
}
