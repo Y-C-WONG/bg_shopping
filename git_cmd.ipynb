{
  "nbformat": 4,
  "nbformat_minor": 5,
  "metadata": {
    "kernel_info": {
      "name": "python3"
    },
    "noteable": {
      "last_transaction_id": "e152aceb-427f-482a-826d-a366a29a2fc3"
    },
    "kernelspec": {
      "display_name": "Python 3.9",
      "language": "python",
      "name": "python3"
    },
    "selected_hardware_size": "small"
  },
  "cells": [
    {
      "id": "f3f6dac8",
      "cell_type": "code",
      "metadata": {
        "noteable": {
          "output_collection_id": "dd874ed5-a5d6-49bb-931e-ee9092f947d7"
        },
        "ExecuteTime": {
          "end_time": "2023-08-05T17:04:35.025604+00:00",
          "start_time": "2023-08-05T17:04:34.785032+00:00"
        },
        "jupyter": {
          "outputs_hidden": false
        }
      },
      "execution_count": null,
      "source": "%%bash\ngit remote set-url origin git@github.com:Y-C-WONG/bg_shopping.git",
      "outputs": []
    }
  ]
}