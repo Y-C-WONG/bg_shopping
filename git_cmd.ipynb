{
  "nbformat": 4,
  "nbformat_minor": 5,
  "metadata": {
    "kernel_info": {
      "name": "python3"
    },
    "noteable": {
      "last_transaction_id": "1972e81d-55e0-4842-885b-98d454a59403"
    },
    "kernelspec": {
      "display_name": "Python 3.9",
      "language": "python",
      "name": "python3"
    },
    "selected_hardware_size": "small"
  },
  "cells": [
    {
      "id": "f3f6dac8",
      "cell_type": "code",
      "metadata": {
        "noteable": {
          "output_collection_id": "78f8e179-1b64-43db-94a7-2244040f48a9"
        },
        "ExecuteTime": {
          "end_time": "2023-08-05T16:52:51.272544+00:00",
          "start_time": "2023-08-05T16:52:50.303760+00:00"
        }
      },
      "execution_count": null,
      "source": "%%bash\ngit push upstream main",
      "outputs": []
    }
  ]
}