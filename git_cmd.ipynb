{
  "nbformat": 4,
  "nbformat_minor": 5,
  "metadata": {
    "kernel_info": {
      "name": "python3"
    },
    "noteable": {
      "last_transaction_id": "f1db879a-65d7-4cc9-953c-66f6568ef743"
    },
    "kernelspec": {
      "display_name": "Python 3.9",
      "language": "python",
      "name": "python3"
    },
    "selected_hardware_size": "small"
  },
  "cells": [
    {
      "id": "f3f6dac8",
      "cell_type": "code",
      "metadata": {
        "noteable": {
          "output_collection_id": "3dc06abd-043f-4076-8392-5cb760f160f3"
        },
        "ExecuteTime": {
          "end_time": "2023-08-05T16:56:27.906501+00:00",
          "start_time": "2023-08-05T16:56:27.570540+00:00"
        },
        "jupyter": {
          "outputs_hidden": false
        }
      },
      "execution_count": null,
      "source": "%%bash\ngit push upstream main ",
      "outputs": []
    }
  ]
}