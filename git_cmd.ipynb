{
  "nbformat": 4,
  "nbformat_minor": 5,
  "metadata": {
    "kernel_info": {
      "name": "python3"
    },
    "noteable": {
      "last_transaction_id": "80201517-c061-430c-8e43-b811957f1707"
    },
    "kernelspec": {
      "display_name": "Python 3.9",
      "language": "python",
      "name": "python3"
    },
    "selected_hardware_size": "small"
  },
  "cells": [
    {
      "id": "f3f6dac8",
      "cell_type": "code",
      "metadata": {
        "noteable": {
          "output_collection_id": "dafa1811-d4dc-4c5f-b87f-519ba8c4fc55"
        },
        "ExecuteTime": {
          "end_time": "2023-08-05T17:15:06.217425+00:00",
          "start_time": "2023-08-05T17:15:05.526261+00:00"
        },
        "jupyter": {
          "outputs_hidden": false
        }
      },
      "execution_count": null,
      "source": "%%bash\n\ngit push https://@github.com/Y-C-WONG/bg_shopping.git\n",
      "outputs": []
    }
  ]
}