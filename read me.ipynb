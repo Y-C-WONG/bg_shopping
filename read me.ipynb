{
  "nbformat": 4,
  "nbformat_minor": 5,
  "metadata": {
    "kernel_info": {
      "name": "python3"
    },
    "noteable": {
      "last_transaction_id": "957dc8c9-84ec-4afd-9b39-9048996dd264"
    },
    "kernelspec": {
      "display_name": "Python 3.9",
      "language": "python",
      "name": "python3"
    },
    "selected_hardware_size": "small"
  },
  "cells": [
    {
      "id": "f9347afd",
      "cell_type": "markdown",
      "source": "# this is the read me ",
      "metadata": {
        "noteable": {
          "cell_type": "markdown"
        }
      }
    },
    {
      "id": "f89c8f02-05bc-47ca-a59b-734f05483b3b",
      "cell_type": "code",
      "metadata": {
        "noteable": {
          "cell_type": "python",
          "output_collection_id": "58838dc7-9b14-43a9-83e3-ece840d21877"
        },
        "ExecuteTime": {
          "end_time": "2023-08-05T16:42:58.853871+00:00",
          "start_time": "2023-08-05T16:42:58.696800+00:00"
        }
      },
      "execution_count": null,
      "source": "print(f\"\"\"this is read me!\"\"\")",
      "outputs": []
    }
  ]
}