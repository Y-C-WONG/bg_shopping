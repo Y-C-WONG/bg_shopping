{
  "nbformat": 4,
  "nbformat_minor": 5,
  "metadata": {
    "kernel_info": {
      "name": "python3"
    },
    "noteable": {
      "last_transaction_id": "a9366c8c-fa76-4450-8040-5cec4e1f7683"
    },
    "kernelspec": {
      "display_name": "Python 3.9",
      "language": "python",
      "name": "python3"
    },
    "selected_hardware_size": "small"
  },
  "cells": [
    {
      "id": "f9347afd",
      "cell_type": "markdown",
      "source": "# this is the read me ",
      "metadata": {
        "noteable": {
          "cell_type": "markdown"
        }
      }
    },
    {
      "id": "f89c8f02-05bc-47ca-a59b-734f05483b3b",
      "cell_type": "markdown",
      "source": "",
      "metadata": {
        "noteable": {
          "cell_type": "markdown"
        }
      }
    }
  ]
}