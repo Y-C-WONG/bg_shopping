{
  "nbformat": 4,
  "nbformat_minor": 5,
  "metadata": {
    "kernel_info": {
      "name": "python3"
    },
    "noteable": {
      "last_transaction_id": "2429fb7c-2037-408e-ae62-8e208df8b139"
    },
    "kernelspec": {
      "display_name": "Python 3.9",
      "language": "python",
      "name": "python3"
    },
    "selected_hardware_size": "small"
  },
  "cells": [
    {
      "id": "f9347afd",
      "cell_type": "markdown",
      "source": "# this is the read me ",
      "metadata": {
        "noteable": {
          "cell_type": "markdown"
        }
      }
    },
    {
      "id": "becfe4b3-4964-4cb3-b7bb-d88c6b00c3c5",
      "cell_type": "code",
      "metadata": {
        "noteable": {
          "cell_type": "python",
          "output_collection_id": "3a7fb7b0-b9d4-46ed-9637-17a4e1b35177"
        },
        "ExecuteTime": {
          "end_time": "2023-08-05T16:27:25.276667+00:00",
          "start_time": "2023-08-05T16:27:24.486777+00:00"
        }
      },
      "execution_count": null,
      "source": "%%bash\ngit push upstream main",
      "outputs": []
    }
  ]
}