{
  "nbformat": 4,
  "nbformat_minor": 5,
  "metadata": {
    "kernel_info": {
      "name": "python3"
    },
    "noteable": {
      "last_transaction_id": "46b36c28-2e46-4fcd-b34c-ccc2f205ce56"
    },
    "kernelspec": {
      "display_name": "Python 3.9",
      "language": "python",
      "name": "python3"
    },
    "selected_hardware_size": "small"
  },
  "cells": [
    {
      "id": "897eb9dc",
      "cell_type": "code",
      "metadata": {
        "noteable": {
          "cell_type": "python"
        }
      },
      "execution_count": null,
      "source": "import sys\nsys.path.insert(0, 'module/')\nimport zatu\n\nurl = \"https://www.board-game.co.uk/category/board-games/?\"\npage = 1\nfull_products = zatu.extract_data(url, page)\n",
      "outputs": []
    },
    {
      "id": "2cdcbce3-4614-49ce-a9bb-79908f31c8c8",
      "cell_type": "code",
      "metadata": {
        "jupyter": {
          "outputs_hidden": false,
          "source_hidden": false
        },
        "noteable": {
          "cell_type": "code"
        }
      },
      "execution_count": null,
      "source": "for product in full_products:\n    print(f\"| {product['name']} | {product['price']} | {product['price_was']} | {product['notice']} |\")",
      "outputs": []
    }
  ]
}