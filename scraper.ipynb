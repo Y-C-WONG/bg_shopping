{
  "nbformat": 4,
  "nbformat_minor": 5,
  "metadata": {
    "kernel_info": {
      "name": "python3"
    },
    "noteable": {
      "last_transaction_id": "c09f599e-346e-48aa-8947-099a0e965daf"
    },
    "kernelspec": {
      "display_name": "Python 3.9",
      "language": "python",
      "name": "python3"
    },
    "selected_hardware_size": "small"
  },
  "cells": [
    {
      "id": "be883284-e1d3-48a8-9d7c-cc834b9b42ec",
      "cell_type": "markdown",
      "source": "# Scrape zatu data",
      "metadata": {
        "noteable": {
          "cell_type": "markdown"
        }
      }
    },
    {
      "id": "897eb9dc",
      "cell_type": "code",
      "metadata": {
        "noteable": {
          "cell_type": "python",
          "output_collection_id": "1937140b-4287-41e6-947a-43d4de12abb8"
        },
        "ExecuteTime": {
          "end_time": "2023-08-06T09:57:27.864970+00:00",
          "start_time": "2023-08-06T09:54:35.359056+00:00"
        },
        "jupyter": {
          "outputs_hidden": true
        }
      },
      "execution_count": null,
      "source": "import sys\nsys.path.insert(0, 'module/')\nimport zatu\n\n\"\"\"\nzatu product list URL\nand scrape from page 1\n\"\"\"\nurl = \"https://www.board-game.co.uk/category/board-games/?\"\npage = 1\nfull_products = zatu.extract_data(url, page)\n",
      "outputs": []
    },
    {
      "id": "c1f202d2-9659-4071-8a0d-3d8eeadd206a",
      "cell_type": "markdown",
      "source": "## Export to csv data and put it in data folder",
      "metadata": {
        "noteable": {
          "cell_type": "markdown"
        }
      }
    },
    {
      "id": "1849c3aa-4ee3-40a6-8b64-dfe73775d440",
      "cell_type": "code",
      "metadata": {
        "jupyter": {
          "outputs_hidden": false,
          "source_hidden": false
        },
        "noteable": {
          "cell_type": "code"
        }
      },
      "execution_count": null,
      "source": "\"\"\"\noutput csv to data folder and the csv call z_list.csv.\nPut the fieldname into the header array.\n\"\"\"\ndata_folder = 'data/'\noutput_file = 'z_list.csv'\nheader = [\"name\", \"price\", \"price_was\", \"notice\"]\nprint(zatu.load2csv(full_products, f\"\"\"{data_folder}{output_file}\"\"\", header))",
      "outputs": []
    },
    {
      "id": "2cdcbce3-4614-49ce-a9bb-79908f31c8c8",
      "cell_type": "markdown",
      "source": "for product in full_products:\n    print(f\"| {product['name']} | {product['price']} | {product['price_was']} | {product['notice']} |\")",
      "metadata": {
        "noteable": {
          "cell_type": "markdown"
        }
      }
    }
  ]
}