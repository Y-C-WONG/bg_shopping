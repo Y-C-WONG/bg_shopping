{
  "nbformat": 4,
  "nbformat_minor": 5,
  "metadata": {
    "kernel_info": {
      "name": "python3"
    },
    "noteable": {
      "last_transaction_id": "2cc03acf-8143-452c-bfe8-a078a41f4b24"
    },
    "kernelspec": {
      "display_name": "Python 3.9",
      "language": "python",
      "name": "python3"
    },
    "selected_hardware_size": "small"
  },
  "cells": [
    {
      "id": "be883284-e1d3-48a8-9d7c-cc834b9b42ec",
      "cell_type": "markdown",
      "source": "# Scrape zatu data",
      "metadata": {
        "noteable": {
          "cell_type": "markdown"
        }
      }
    },
    {
      "id": "897eb9dc",
      "cell_type": "code",
      "metadata": {
        "noteable": {
          "cell_type": "python",
          "output_collection_id": "ecba19bd-2563-4b59-97d4-8e752568bc6f"
        },
        "ExecuteTime": {
          "end_time": "2023-08-06T19:50:02.396504+00:00",
          "start_time": "2023-08-06T19:40:23.874305+00:00"
        },
        "jupyter": {
          "outputs_hidden": false
        }
      },
      "execution_count": null,
      "source": "import sys\nsys.path.insert(0, 'module/')\nimport zatu\n\n\"\"\"\nzatu product list URL\nand scrape from page 1\n\"\"\"\nurl = \"https://www.board-game.co.uk/category/board-games/?\"\npage = 1\nfull_products = zatu.extract_data(url, page)\n",
      "outputs": []
    },
    {
      "id": "c1f202d2-9659-4071-8a0d-3d8eeadd206a",
      "cell_type": "markdown",
      "source": "## Export to csv data and put it in data folder",
      "metadata": {
        "noteable": {
          "cell_type": "markdown"
        }
      }
    },
    {
      "id": "1849c3aa-4ee3-40a6-8b64-dfe73775d440",
      "cell_type": "code",
      "metadata": {
        "jupyter": {
          "outputs_hidden": false,
          "source_hidden": false
        },
        "noteable": {
          "cell_type": "code",
          "output_collection_id": "5ba7aad1-2ea5-434f-8d32-16e1af803d9c"
        },
        "ExecuteTime": {
          "end_time": "2023-08-06T19:50:02.623466+00:00",
          "start_time": "2023-08-06T19:50:02.407790+00:00"
        }
      },
      "execution_count": null,
      "source": "\"\"\"\noutput csv to data folder and the csv call z_list.csv.\nPut the fieldname into the header array.\n\"\"\"\ndata_folder = 'data/'\noutput_file = 'z_list.csv'\nheader = [\"name\", \"price\", \"price_was\", \"notice\"]\nprint(zatu.load2csv(full_products, f\"\"\"{data_folder}{output_file}\"\"\", header))",
      "outputs": []
    },
    {
      "id": "2cdcbce3-4614-49ce-a9bb-79908f31c8c8",
      "cell_type": "markdown",
      "source": "for product in full_products:\n    print(f\"| {product['name']} | {product['price']} | {product['price_was']} | {product['notice']} |\")",
      "metadata": {
        "noteable": {
          "cell_type": "markdown"
        }
      }
    }
  ]
}