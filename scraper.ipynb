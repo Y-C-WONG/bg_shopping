{
  "nbformat": 4,
  "nbformat_minor": 5,
  "metadata": {
    "kernel_info": {
      "name": "python3"
    },
    "noteable": {
      "last_transaction_id": "e558260f-57c6-4cc5-8bb6-4ce2fb0ab96b"
    },
    "kernelspec": {
      "display_name": "Python 3.9",
      "language": "python",
      "name": "python3"
    },
    "selected_hardware_size": "small"
  },
  "cells": [
    {
      "id": "897eb9dc",
      "cell_type": "code",
      "metadata": {
        "noteable": {
          "cell_type": "python",
          "output_collection_id": "1937140b-4287-41e6-947a-43d4de12abb8"
        },
        "ExecuteTime": null
      },
      "execution_count": null,
      "source": "import sys\nsys.path.insert(0, 'module/')\nimport zatu\n\nurl = \"https://www.board-game.co.uk/category/board-games/?\"\npage = 1\nfull_products = zatu.extract_data(url, page)\n",
      "outputs": []
    },
    {
      "id": "2cdcbce3-4614-49ce-a9bb-79908f31c8c8",
      "cell_type": "code",
      "metadata": {
        "jupyter": {
          "outputs_hidden": false,
          "source_hidden": false
        },
        "noteable": {
          "cell_type": "code"
        }
      },
      "execution_count": null,
      "source": "for product in full_products:\n    print(f\"| {product['name']} | {product['price']} | {product['price_was']} | {product['notice']} |\")",
      "outputs": []
    }
  ]
}