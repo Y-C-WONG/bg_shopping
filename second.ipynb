{
  "nbformat": 4,
  "nbformat_minor": 5,
  "metadata": {},
  "cells": [
    {
      "id": "d4a333e8",
      "cell_type": "code",
      "metadata": {},
      "execution_count": null,
      "source": "",
      "outputs": []
    }
  ]
}