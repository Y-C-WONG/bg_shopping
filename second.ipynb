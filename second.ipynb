{
  "nbformat": 4,
  "nbformat_minor": 5,
  "metadata": {
    "kernel_info": {
      "name": "python3"
    },
    "noteable": {
      "last_transaction_id": "1966eaba-e3f2-4923-b025-2cbf316ff2ad"
    },
    "kernelspec": {
      "display_name": "Python 3.9",
      "language": "python",
      "name": "python3"
    },
    "selected_hardware_size": "small"
  },
  "cells": [
    {
      "id": "89c0ddf3-74c7-417e-8af8-b10c6db0215d",
      "cell_type": "markdown",
      "source": "# This is the second notbook",
      "metadata": {
        "noteable": {
          "cell_type": "markdown"
        }
      }
    },
    {
      "id": "d4a333e8",
      "cell_type": "code",
      "metadata": {},
      "execution_count": null,
      "source": "print(f\"\"\"this is the second notbook\"\"\")",
      "outputs": []
    }
  ]
}