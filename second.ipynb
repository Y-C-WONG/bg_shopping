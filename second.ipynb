{
  "nbformat": 4,
  "nbformat_minor": 5,
  "metadata": {
    "kernel_info": {
      "name": "python3"
    },
    "noteable": {
      "last_transaction_id": "e5f708c8-5512-45a1-bf22-72d583762238"
    },
    "kernelspec": {
      "display_name": "Python 3.9",
      "language": "python",
      "name": "python3"
    },
    "selected_hardware_size": "small"
  },
  "cells": [
    {
      "id": "89c0ddf3-74c7-417e-8af8-b10c6db0215d",
      "cell_type": "code",
      "metadata": {
        "jupyter": {
          "outputs_hidden": false,
          "source_hidden": false
        },
        "noteable": {
          "cell_type": "code"
        }
      },
      "execution_count": null,
      "source": "",
      "outputs": []
    },
    {
      "id": "d4a333e8",
      "cell_type": "code",
      "metadata": {},
      "execution_count": null,
      "source": "print(f\"\"\"this is the second notbook\"\"\")",
      "outputs": []
    }
  ]
}