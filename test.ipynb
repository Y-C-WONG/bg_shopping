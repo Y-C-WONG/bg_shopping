{
  "nbformat": 4,
  "nbformat_minor": 5,
  "metadata": {
    "kernel_info": {
      "name": "python3"
    },
    "noteable": {
      "last_transaction_id": "61248ad4-05bc-4ff1-b660-b7d9c7a5df42"
    },
    "kernelspec": {
      "display_name": "Python 3.9",
      "language": "python",
      "name": "python3"
    },
    "selected_hardware_size": "small"
  },
  "cells": [
    {
      "id": "5d005189",
      "cell_type": "code",
      "metadata": {
        "noteable": {
          "output_collection_id": "05cd476b-3af1-4f6e-9bce-b076e00d7bec"
        },
        "ExecuteTime": {
          "end_time": "2023-08-07T12:33:13.345894+00:00",
          "start_time": "2023-08-07T12:33:13.165786+00:00"
        }
      },
      "execution_count": null,
      "source": "%%bash\nls",
      "outputs": []
    }
  ]
}