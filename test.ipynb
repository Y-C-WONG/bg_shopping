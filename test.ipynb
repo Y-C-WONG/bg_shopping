{
  "nbformat": 4,
  "nbformat_minor": 5,
  "metadata": {
    "kernel_info": {
      "name": "python3"
    },
    "noteable": {
      "last_transaction_id": "0a71c162-2f80-4a75-b5c1-7012553dcdc6"
    },
    "kernelspec": {
      "display_name": "Python 3.9",
      "language": "python",
      "name": "python3"
    },
    "selected_hardware_size": "small"
  },
  "cells": [
    {
      "id": "5d005189",
      "cell_type": "code",
      "metadata": {},
      "execution_count": null,
      "source": "%%bash\nls",
      "outputs": []
    }
  ]
}