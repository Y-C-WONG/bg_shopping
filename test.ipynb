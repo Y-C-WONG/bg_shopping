{
  "nbformat": 4,
  "nbformat_minor": 5,
  "metadata": {
    "kernel_info": {
      "name": "python3"
    },
    "noteable": {
      "last_transaction_id": "b5c1c691-0319-4fe0-947c-8631885b592e"
    },
    "kernelspec": {
      "display_name": "Python 3.9",
      "language": "python",
      "name": "python3"
    },
    "selected_hardware_size": "small"
  },
  "cells": [
    {
      "id": "5d005189",
      "cell_type": "code",
      "metadata": {
        "noteable": {
          "output_collection_id": "888a12f8-6a39-4bd5-8224-a3239b092b4d"
        },
        "ExecuteTime": {
          "end_time": "2023-08-07T12:35:01.725192+00:00",
          "start_time": "2023-08-07T12:35:01.517251+00:00"
        }
      },
      "execution_count": null,
      "source": "%%bash\nls -a\ncat .gitignore\ncat .git\nls -a .git\ncd .git\nls",
      "outputs": []
    }
  ]
}