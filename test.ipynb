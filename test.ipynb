{
  "nbformat": 4,
  "nbformat_minor": 5,
  "metadata": {
    "kernel_info": {
      "name": "python3"
    },
    "noteable": {
      "last_transaction_id": "ff6aa881-c684-4b4e-97cd-7e22afb7194d"
    },
    "kernelspec": {
      "display_name": "Python 3.9",
      "language": "python",
      "name": "python3"
    },
    "selected_hardware_size": "small"
  },
  "cells": [
    {
      "id": "5d005189",
      "cell_type": "code",
      "metadata": {
        "noteable": {
          "output_collection_id": "0c523e40-8736-4fb9-ade2-12c1deb5f7db"
        },
        "ExecuteTime": {
          "end_time": "2023-08-07T12:35:30.038540+00:00",
          "start_time": "2023-08-07T12:35:29.828235+00:00"
        }
      },
      "execution_count": null,
      "source": "%%bash\nls -a\ncat .gitignore\nls -a .git\ncd .git\nls -a",
      "outputs": []
    }
  ]
}