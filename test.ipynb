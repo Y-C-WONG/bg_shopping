{
  "nbformat": 4,
  "nbformat_minor": 5,
  "metadata": {
    "kernel_info": {
      "name": "python3"
    },
    "noteable": {
      "last_transaction_id": "eaf83e39-e9a8-47e6-9507-0adcea01fdfc"
    },
    "kernelspec": {
      "display_name": "Python 3.9",
      "language": "python",
      "name": "python3"
    },
    "selected_hardware_size": "small"
  },
  "cells": [
    {
      "id": "5d005189",
      "cell_type": "code",
      "metadata": {
        "noteable": {
          "output_collection_id": "6bcab639-dda4-4130-ab62-606101837bb4"
        },
        "ExecuteTime": {
          "end_time": "2023-08-07T12:34:16.172807+00:00",
          "start_time": "2023-08-07T12:34:15.979176+00:00"
        }
      },
      "execution_count": null,
      "source": "%%bash\nls -a\ncat .gitignore",
      "outputs": []
    }
  ]
}