{
  "nbformat": 4,
  "nbformat_minor": 5,
  "metadata": {
    "kernel_info": {
      "name": "python3"
    },
    "noteable": {
      "last_transaction_id": "1210d064-8266-4496-af90-1ba0856040ee"
    },
    "kernelspec": {
      "display_name": "Python 3.9",
      "language": "python",
      "name": "python3"
    },
    "selected_hardware_size": "small"
  },
  "cells": [
    {
      "id": "5d005189",
      "cell_type": "code",
      "metadata": {
        "noteable": {
          "output_collection_id": "f6e0a159-8fa6-4ed2-86db-fac8ec02dcf7"
        },
        "ExecuteTime": {
          "end_time": "2023-08-07T12:33:47.402118+00:00",
          "start_time": "2023-08-07T12:33:47.211159+00:00"
        }
      },
      "execution_count": null,
      "source": "%%bash\nls -a",
      "outputs": []
    }
  ]
}