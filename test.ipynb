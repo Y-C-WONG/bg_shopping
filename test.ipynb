{
  "nbformat": 4,
  "nbformat_minor": 5,
  "metadata": {
    "kernel_info": {
      "name": "python3"
    },
    "noteable": {
      "last_transaction_id": "f6cde2a5-fc69-40aa-b65b-5f879ca9e647"
    },
    "kernelspec": {
      "display_name": "Python 3.9",
      "language": "python",
      "name": "python3"
    },
    "selected_hardware_size": "small"
  },
  "cells": [
    {
      "id": "5d005189",
      "cell_type": "code",
      "metadata": {
        "noteable": {
          "output_collection_id": "09e8f04f-ea66-4407-a2a0-3ad06cc71302"
        },
        "ExecuteTime": {
          "end_time": "2023-08-07T12:34:36.110091+00:00",
          "start_time": "2023-08-07T12:34:35.198014+00:00"
        }
      },
      "execution_count": null,
      "source": "%%bash\nls -a\ncat .gitignore\ncat .git\nls",
      "outputs": []
    }
  ]
}