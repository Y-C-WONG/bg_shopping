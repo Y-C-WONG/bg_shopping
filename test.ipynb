{
  "nbformat": 4,
  "nbformat_minor": 5,
  "metadata": {
    "kernel_info": {
      "name": "python3"
    },
    "noteable": {
      "last_transaction_id": "492c64aa-05ae-43bf-b97a-71051d265682"
    },
    "kernelspec": {
      "display_name": "Python 3.9",
      "language": "python",
      "name": "python3"
    },
    "selected_hardware_size": "small"
  },
  "cells": [
    {
      "id": "5d005189",
      "cell_type": "code",
      "metadata": {
        "noteable": {
          "output_collection_id": "0ca16cca-22d8-4e09-a11c-237c9242a87a"
        },
        "ExecuteTime": {
          "end_time": "2023-08-07T12:35:55.217879+00:00",
          "start_time": "2023-08-07T12:35:54.984892+00:00"
        }
      },
      "execution_count": null,
      "source": "%%bash\nls -a\ncat .gitignore\nls -a .git\ncd .git\nls -a\ncat config",
      "outputs": []
    }
  ]
}