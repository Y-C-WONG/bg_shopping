{
  "nbformat": 4,
  "nbformat_minor": 5,
  "metadata": {
    "kernel_info": {
      "name": "python3"
    },
    "noteable": {
      "last_transaction_id": "791fce33-81ae-4fd2-91d9-e75da83066e7"
    },
    "kernelspec": {
      "display_name": "Python 3.9",
      "language": "python",
      "name": "python3"
    },
    "selected_hardware_size": "small"
  },
  "cells": [
    {
      "id": "577d0a21",
      "cell_type": "code",
      "metadata": {},
      "execution_count": null,
      "source": "print(\"aa\")",
      "outputs": []
    }
  ]
}